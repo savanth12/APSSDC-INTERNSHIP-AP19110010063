{
 "cells": [
  {
   "cell_type": "markdown",
   "id": "0c915d40",
   "metadata": {},
   "source": [
    "## TASK \n",
    "* Write a python function that takes two lists and returns True if they have atleast one common member"
   ]
  },
  {
   "cell_type": "code",
   "execution_count": 1,
   "id": "dea6eb89",
   "metadata": {},
   "outputs": [
    {
     "name": "stdout",
     "output_type": "stream",
     "text": [
      "True\n"
     ]
    }
   ],
   "source": [
    "def common(l1, l2):\n",
    "    flag = False\n",
    "    for i in l1:\n",
    "        if (i in l2):\n",
    "            flag = True\n",
    "        else:\n",
    "            pass\n",
    "    return flag\n",
    "\n",
    "l1 = [4, 7, 8, 9, 11]\n",
    "l2 = [5, 9, 4, 11, 14]\n",
    "res = common(l1, l2)\n",
    "print(res)"
   ]
  },
  {
   "cell_type": "code",
   "execution_count": 3,
   "id": "e5d43611",
   "metadata": {},
   "outputs": [
    {
     "name": "stdout",
     "output_type": "stream",
     "text": [
      "False\n"
     ]
    }
   ],
   "source": [
    "l1 = [3, 4, 5, 6, 8]\n",
    "l2 = [1, 2, 0, 14, 12]\n",
    "res = common(l1, l2)\n",
    "print(res)"
   ]
  }
 ],
 "metadata": {
  "kernelspec": {
   "display_name": "Python 3",
   "language": "python",
   "name": "python3"
  },
  "language_info": {
   "codemirror_mode": {
    "name": "ipython",
    "version": 3
   },
   "file_extension": ".py",
   "mimetype": "text/x-python",
   "name": "python",
   "nbconvert_exporter": "python",
   "pygments_lexer": "ipython3",
   "version": "3.8.8"
  }
 },
 "nbformat": 4,
 "nbformat_minor": 5
}
