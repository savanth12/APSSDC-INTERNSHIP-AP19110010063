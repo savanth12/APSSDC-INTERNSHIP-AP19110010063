{
 "cells": [
  {
   "cell_type": "markdown",
   "id": "b1210fbf",
   "metadata": {},
   "source": [
    "#### 1. Create a function for finding the leap years in the given range."
   ]
  },
  {
   "cell_type": "code",
   "execution_count": 1,
   "id": "1e864049",
   "metadata": {},
   "outputs": [
    {
     "name": "stdout",
     "output_type": "stream",
     "text": [
      "Enter the starting year : 1999\n",
      "Enter the ending year : 2021\n",
      "The leap years between the range 1999 and 2021 are\n",
      "2000\n",
      "2004\n",
      "2008\n",
      "2012\n",
      "2016\n",
      "2020\n"
     ]
    }
   ],
   "source": [
    "def leap_year(y):\n",
    "    if (y % 4 == 0 and y % 100 != 0 or y % 400 == 0):\n",
    "        return True\n",
    "    else:\n",
    "        return False\n",
    "begg = int(input(\"Enter the starting year : \"))\n",
    "end = int(input(\"Enter the ending year : \"))\n",
    "print(\"The leap years between the range\", begg, \"and\", end, \"are\")\n",
    "for x in range(begg, end):\n",
    "    if leap_year(x) == True:\n",
    "        print(x)"
   ]
  },
  {
   "cell_type": "markdown",
   "id": "893e09ad",
   "metadata": {},
   "source": [
    "#### 2. Create a function for getting armstrong numbers within the given range."
   ]
  },
  {
   "cell_type": "code",
   "execution_count": 2,
   "id": "57e3a4d5",
   "metadata": {},
   "outputs": [
    {
     "name": "stdout",
     "output_type": "stream",
     "text": [
      "Enter the starting number : 1\n",
      "Enter the final number : 89\n",
      "The Armstrong numbers from the range 1 to 89 are\n",
      "1\n",
      "2\n",
      "3\n",
      "4\n",
      "5\n",
      "6\n",
      "7\n",
      "8\n",
      "9\n"
     ]
    }
   ],
   "source": [
    "def armstrong_num(x, y):\n",
    "    for n in range(x, y+1):\n",
    "        number = n\n",
    "        result1 = 0\n",
    "        j = len(str(n))\n",
    "        while(n != 0):\n",
    "            dig = n % 10\n",
    "            result1 = result1 + dig ** j\n",
    "            n = n//10\n",
    "        if number == result1:\n",
    "            print(number)\n",
    "start = int(input(\"Enter the starting number : \"))\n",
    "end = int(input(\"Enter the final number : \"))\n",
    "print(\"The Armstrong numbers from the range\", start, \"to\", end, \"are\")\n",
    "armstrong_num(start, end)"
   ]
  },
  {
   "cell_type": "markdown",
   "id": "3cf15a0a",
   "metadata": {},
   "source": [
    "#### 3. Create a function for getting the prime numbers within the given range."
   ]
  },
  {
   "cell_type": "code",
   "execution_count": 3,
   "id": "dfbaa7d0",
   "metadata": {},
   "outputs": [
    {
     "name": "stdout",
     "output_type": "stream",
     "text": [
      "Enter the start number : 2\n",
      "Enter the end number : 20\n",
      "The prime numbers between 2 and 20 are\n",
      "2\n",
      "3\n",
      "5\n",
      "7\n",
      "11\n",
      "13\n",
      "17\n",
      "19\n"
     ]
    }
   ],
   "source": [
    "def prim_num(n1, n2):\n",
    "    for num in range(n1, n2+1):\n",
    "        for x in range(2, num):\n",
    "            if num % x == 0:\n",
    "                break\n",
    "        else:\n",
    "            print(num)\n",
    "    \n",
    "initial = int(input(\"Enter the start number : \"))\n",
    "final = int(input(\"Enter the end number : \"))\n",
    "print(\"The prime numbers between\", initial, \"and\", final, \"are\")\n",
    "prim_num(initial, final)"
   ]
  },
  {
   "cell_type": "markdown",
   "id": "892c9302",
   "metadata": {},
   "source": [
    "#### 4. Create a function for finding the count of elements in a given string."
   ]
  },
  {
   "cell_type": "code",
   "execution_count": 4,
   "id": "0dafbb28",
   "metadata": {},
   "outputs": [
    {
     "name": "stdout",
     "output_type": "stream",
     "text": [
      "Enter the string: SRM University\n",
      "The Count of elements for the given string is 14\n"
     ]
    }
   ],
   "source": [
    "def count_ele():\n",
    "    strng = str(input(\"Enter the string: \"))\n",
    "    count_strng = 0\n",
    "    for i in strng:\n",
    "        count_strng = count_strng + 1\n",
    "    print(\"The Count of elements for the given string is {}\".format(count_strng))\n",
    "count_ele()"
   ]
  }
 ],
 "metadata": {
  "kernelspec": {
   "display_name": "Python 3",
   "language": "python",
   "name": "python3"
  },
  "language_info": {
   "codemirror_mode": {
    "name": "ipython",
    "version": 3
   },
   "file_extension": ".py",
   "mimetype": "text/x-python",
   "name": "python",
   "nbconvert_exporter": "python",
   "pygments_lexer": "ipython3",
   "version": "3.8.8"
  }
 },
 "nbformat": 4,
 "nbformat_minor": 5
}
