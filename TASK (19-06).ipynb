{
 "cells": [
  {
   "cell_type": "markdown",
   "id": "42483d73",
   "metadata": {},
   "source": [
    "### TASKS:\n",
    "#### 1. Write a program to print all the leap years in the range 1800 and 2030 using list comprehension and also display all the leap years which are divisible by 5"
   ]
  },
  {
   "cell_type": "code",
   "execution_count": 3,
   "id": "463bd0a3",
   "metadata": {},
   "outputs": [
    {
     "name": "stdout",
     "output_type": "stream",
     "text": [
      "Leap years between 1800 & 2300 are: \n",
      "[1804, 1808, 1812, 1816, 1820, 1824, 1828, 1832, 1836, 1840, 1844, 1848, 1852, 1856, 1860, 1864, 1868, 1872, 1876, 1880, 1884, 1888, 1892, 1896, 1904, 1908, 1912, 1916, 1920, 1924, 1928, 1932, 1936, 1940, 1944, 1948, 1952, 1956, 1960, 1964, 1968, 1972, 1976, 1980, 1984, 1988, 1992, 1996, 2000, 2004, 2008, 2012, 2016, 2020, 2024, 2028]\n",
      "\n",
      "Leap years between 1800 & 2300 that are divisible by 5 are: \n",
      "[1820, 1840, 1860, 1880, 1920, 1940, 1960, 1980, 2000, 2020]\n"
     ]
    }
   ],
   "source": [
    "#To display leap years between 1800 & 2030\n",
    "def leap(year):\n",
    "    if (year % 4 == 0):\n",
    "        if (year % 100 == 0):\n",
    "            if (year % 400 == 0):\n",
    "                return True\n",
    "            else:\n",
    "                return False\n",
    "        else:\n",
    "            return True\n",
    "    else:\n",
    "        return False\n",
    "i = [year for year in range(1800, 2031) if (leap(year))]\n",
    "print(\"Leap years between 1800 & 2300 are: \")\n",
    "print(i)\n",
    "\n",
    "#To display leap years between 1800 & 2300 that are divisible by 5 \n",
    "x = 1800\n",
    "y = 2030\n",
    "print()\n",
    "print(\"Leap years between 1800 & 2300 that are divisible by 5 are: \")\n",
    "print([z for z in range(x, y + 1) if (z % 4 == 0 and z % 100 != 0 and z % 5==0) or (z % 400 == 0)])"
   ]
  }
 ],
 "metadata": {
  "kernelspec": {
   "display_name": "Python 3",
   "language": "python",
   "name": "python3"
  },
  "language_info": {
   "codemirror_mode": {
    "name": "ipython",
    "version": 3
   },
   "file_extension": ".py",
   "mimetype": "text/x-python",
   "name": "python",
   "nbconvert_exporter": "python",
   "pygments_lexer": "ipython3",
   "version": "3.8.8"
  }
 },
 "nbformat": 4,
 "nbformat_minor": 5
}
