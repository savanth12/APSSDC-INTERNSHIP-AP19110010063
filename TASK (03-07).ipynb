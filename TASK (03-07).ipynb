{
 "cells": [
  {
   "cell_type": "markdown",
   "id": "9a19a49a",
   "metadata": {},
   "source": [
    "## TASK :\n",
    "* Apply KNN model for below dataset. Take k = 3, 5, 7 and find accuracy for each K value\n",
    "* https://raw.githubusercontent.com/nagamounika5/Datasets/master/Student_PassOrFail.csv"
   ]
  },
  {
   "cell_type": "code",
   "execution_count": 2,
   "id": "78a05e33",
   "metadata": {},
   "outputs": [
    {
     "data": {
      "text/html": [
       "<div>\n",
       "<style scoped>\n",
       "    .dataframe tbody tr th:only-of-type {\n",
       "        vertical-align: middle;\n",
       "    }\n",
       "\n",
       "    .dataframe tbody tr th {\n",
       "        vertical-align: top;\n",
       "    }\n",
       "\n",
       "    .dataframe thead th {\n",
       "        text-align: right;\n",
       "    }\n",
       "</style>\n",
       "<table border=\"1\" class=\"dataframe\">\n",
       "  <thead>\n",
       "    <tr style=\"text-align: right;\">\n",
       "      <th></th>\n",
       "      <th>Self_Study_Daily</th>\n",
       "      <th>Tution_Monthly</th>\n",
       "      <th>Pass_Or_Fail</th>\n",
       "    </tr>\n",
       "  </thead>\n",
       "  <tbody>\n",
       "    <tr>\n",
       "      <th>0</th>\n",
       "      <td>7</td>\n",
       "      <td>27</td>\n",
       "      <td>1</td>\n",
       "    </tr>\n",
       "    <tr>\n",
       "      <th>1</th>\n",
       "      <td>2</td>\n",
       "      <td>43</td>\n",
       "      <td>0</td>\n",
       "    </tr>\n",
       "    <tr>\n",
       "      <th>2</th>\n",
       "      <td>7</td>\n",
       "      <td>26</td>\n",
       "      <td>1</td>\n",
       "    </tr>\n",
       "    <tr>\n",
       "      <th>3</th>\n",
       "      <td>8</td>\n",
       "      <td>29</td>\n",
       "      <td>1</td>\n",
       "    </tr>\n",
       "    <tr>\n",
       "      <th>4</th>\n",
       "      <td>3</td>\n",
       "      <td>42</td>\n",
       "      <td>0</td>\n",
       "    </tr>\n",
       "    <tr>\n",
       "      <th>...</th>\n",
       "      <td>...</td>\n",
       "      <td>...</td>\n",
       "      <td>...</td>\n",
       "    </tr>\n",
       "    <tr>\n",
       "      <th>995</th>\n",
       "      <td>6</td>\n",
       "      <td>22</td>\n",
       "      <td>1</td>\n",
       "    </tr>\n",
       "    <tr>\n",
       "      <th>996</th>\n",
       "      <td>9</td>\n",
       "      <td>30</td>\n",
       "      <td>1</td>\n",
       "    </tr>\n",
       "    <tr>\n",
       "      <th>997</th>\n",
       "      <td>3</td>\n",
       "      <td>39</td>\n",
       "      <td>0</td>\n",
       "    </tr>\n",
       "    <tr>\n",
       "      <th>998</th>\n",
       "      <td>7</td>\n",
       "      <td>25</td>\n",
       "      <td>1</td>\n",
       "    </tr>\n",
       "    <tr>\n",
       "      <th>999</th>\n",
       "      <td>5</td>\n",
       "      <td>37</td>\n",
       "      <td>0</td>\n",
       "    </tr>\n",
       "  </tbody>\n",
       "</table>\n",
       "<p>1000 rows × 3 columns</p>\n",
       "</div>"
      ],
      "text/plain": [
       "     Self_Study_Daily  Tution_Monthly  Pass_Or_Fail\n",
       "0                   7              27             1\n",
       "1                   2              43             0\n",
       "2                   7              26             1\n",
       "3                   8              29             1\n",
       "4                   3              42             0\n",
       "..                ...             ...           ...\n",
       "995                 6              22             1\n",
       "996                 9              30             1\n",
       "997                 3              39             0\n",
       "998                 7              25             1\n",
       "999                 5              37             0\n",
       "\n",
       "[1000 rows x 3 columns]"
      ]
     },
     "execution_count": 2,
     "metadata": {},
     "output_type": "execute_result"
    }
   ],
   "source": [
    "import pandas as pd\n",
    "df = pd.read_csv(\"https://raw.githubusercontent.com/nagamounika5/Datasets/master/Student_PassOrFail.csv\")\n",
    "df"
   ]
  },
  {
   "cell_type": "code",
   "execution_count": 5,
   "id": "3986b44a",
   "metadata": {},
   "outputs": [],
   "source": [
    "from sklearn.neighbors import KNeighborsClassifier\n",
    "from sklearn.metrics import confusion_matrix, accuracy_score\n",
    "from sklearn.model_selection import train_test_split"
   ]
  },
  {
   "cell_type": "code",
   "execution_count": 9,
   "id": "2d10f31f",
   "metadata": {},
   "outputs": [],
   "source": [
    "i = df[df.columns[:1]]\n",
    "j = df['Pass_Or_Fail']\n",
    "i_train, i_test, j_train, j_test = train_test_split(i, j ,test_size = 0.2, random_state = 42)"
   ]
  },
  {
   "cell_type": "markdown",
   "id": "c50fb45b",
   "metadata": {},
   "source": [
    "### k = 3 :"
   ]
  },
  {
   "cell_type": "code",
   "execution_count": 10,
   "id": "732da503",
   "metadata": {},
   "outputs": [
    {
     "data": {
      "text/plain": [
       "KNeighborsClassifier(n_neighbors=3)"
      ]
     },
     "execution_count": 10,
     "metadata": {},
     "output_type": "execute_result"
    }
   ],
   "source": [
    "model = KNeighborsClassifier(n_neighbors = 3)\n",
    "model.fit(i_train, j_train)"
   ]
  },
  {
   "cell_type": "code",
   "execution_count": 11,
   "id": "35c817f5",
   "metadata": {},
   "outputs": [],
   "source": [
    "predict_j = model.predict(i_test)"
   ]
  },
  {
   "cell_type": "code",
   "execution_count": 13,
   "id": "a880ccb7",
   "metadata": {},
   "outputs": [
    {
     "name": "stdout",
     "output_type": "stream",
     "text": [
      "0.92\n"
     ]
    }
   ],
   "source": [
    "print(accuracy_score(j_test, predict_j))"
   ]
  },
  {
   "cell_type": "code",
   "execution_count": 14,
   "id": "ebe54f2d",
   "metadata": {},
   "outputs": [
    {
     "name": "stdout",
     "output_type": "stream",
     "text": [
      "[[89 15]\n",
      " [ 1 95]]\n"
     ]
    }
   ],
   "source": [
    "print(confusion_matrix(j_test, predict_j))"
   ]
  },
  {
   "cell_type": "markdown",
   "id": "dc1f90e7",
   "metadata": {},
   "source": [
    "### k = 5 :"
   ]
  },
  {
   "cell_type": "code",
   "execution_count": 23,
   "id": "6a789250",
   "metadata": {},
   "outputs": [],
   "source": [
    "i_train1, i_test1, j_train1, j_test1 = train_test_split(i, j, test_size = 0.2, random_state = 42)\n",
    "model = KNeighborsClassifier(n_neighbors = 5)\n",
    "model.fit(i_train1, j_train1)\n",
    "predict_k1 = model.predict(i_test1)"
   ]
  },
  {
   "cell_type": "code",
   "execution_count": 24,
   "id": "2dc84c67",
   "metadata": {},
   "outputs": [
    {
     "name": "stdout",
     "output_type": "stream",
     "text": [
      "0.92\n"
     ]
    }
   ],
   "source": [
    "print(accuracy_score(j_test1, predict_k1))"
   ]
  },
  {
   "cell_type": "code",
   "execution_count": 25,
   "id": "b0e877ce",
   "metadata": {},
   "outputs": [
    {
     "name": "stdout",
     "output_type": "stream",
     "text": [
      "[[89 15]\n",
      " [ 1 95]]\n"
     ]
    }
   ],
   "source": [
    "print(confusion_matrix(j_test1, predict_k1))"
   ]
  },
  {
   "cell_type": "markdown",
   "id": "f554a74e",
   "metadata": {},
   "source": [
    "### k = 7 : "
   ]
  },
  {
   "cell_type": "code",
   "execution_count": 27,
   "id": "60f3b915",
   "metadata": {},
   "outputs": [],
   "source": [
    "i_train2, i_test2, j_train2, j_test2 = train_test_split(i, j, test_size = 0.2, random_state = 42)\n",
    "model = KNeighborsClassifier(n_neighbors = 7)\n",
    "model.fit(i_train2, j_train2)\n",
    "predict_k2 = model.predict(i_test2)"
   ]
  },
  {
   "cell_type": "code",
   "execution_count": 28,
   "id": "67e6f0ed",
   "metadata": {},
   "outputs": [
    {
     "name": "stdout",
     "output_type": "stream",
     "text": [
      "0.92\n"
     ]
    }
   ],
   "source": [
    "print(accuracy_score(j_test2, predict_k2))"
   ]
  },
  {
   "cell_type": "code",
   "execution_count": 29,
   "id": "fd9354d5",
   "metadata": {},
   "outputs": [
    {
     "name": "stdout",
     "output_type": "stream",
     "text": [
      "[[89 15]\n",
      " [ 1 95]]\n"
     ]
    }
   ],
   "source": [
    "print(confusion_matrix(j_test2, predict_k2))"
   ]
  }
 ],
 "metadata": {
  "kernelspec": {
   "display_name": "Python 3",
   "language": "python",
   "name": "python3"
  },
  "language_info": {
   "codemirror_mode": {
    "name": "ipython",
    "version": 3
   },
   "file_extension": ".py",
   "mimetype": "text/x-python",
   "name": "python",
   "nbconvert_exporter": "python",
   "pygments_lexer": "ipython3",
   "version": "3.8.8"
  }
 },
 "nbformat": 4,
 "nbformat_minor": 5
}
