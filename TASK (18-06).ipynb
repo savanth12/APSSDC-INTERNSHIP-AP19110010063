{
 "cells": [
  {
   "cell_type": "markdown",
   "id": "bfc6a523",
   "metadata": {},
   "source": [
    "#### TASKS:\n",
    "#### 1. Write a program for getting the last five lines from the file"
   ]
  },
  {
   "cell_type": "code",
   "execution_count": 1,
   "id": "fbe1cd51",
   "metadata": {},
   "outputs": [],
   "source": [
    "f = open('file1.txt', 'w')\n",
    "f.write(\"line1 \\nline2 \\nline3 \\nline4 \\nline5 \\nline6 \\nline7 \\nline8 \\nline9 \\nline10\")\n",
    "f.close()"
   ]
  },
  {
   "cell_type": "code",
   "execution_count": 2,
   "id": "450f6d1c",
   "metadata": {},
   "outputs": [
    {
     "name": "stdout",
     "output_type": "stream",
     "text": [
      "Enter the no. of lines to read : 6\n",
      "line5 \n",
      "\n",
      "line6 \n",
      "\n",
      "line7 \n",
      "\n",
      "line8 \n",
      "\n",
      "line9 \n",
      "\n",
      "line10\n"
     ]
    }
   ],
   "source": [
    "f = open('file1.txt', 'r')\n",
    "x = int(input(\"Enter the no. of lines to read : \"))\n",
    "for i in f.readlines()[-x:]:\n",
    "    print(i)"
   ]
  },
  {
   "cell_type": "markdown",
   "id": "a9e62b42",
   "metadata": {},
   "source": [
    "#### 2. Create a function for appending data into file"
   ]
  },
  {
   "cell_type": "code",
   "execution_count": 5,
   "id": "d41307c4",
   "metadata": {},
   "outputs": [
    {
     "name": "stdout",
     "output_type": "stream",
     "text": [
      "Enter name of the file : file1.txt\n",
      "Enter data to append to the file : hello\n",
      "line1 \n",
      "line2 \n",
      "line3 \n",
      "line4 \n",
      "line5 \n",
      "line6 \n",
      "line7 \n",
      "line8 \n",
      "line9 \n",
      "line10\n",
      "hello\n"
     ]
    }
   ],
   "source": [
    "def append_data(name, data):\n",
    "    with open(name, 'a+') as f:\n",
    "        f.write(\"\\n\" + data)\n",
    "        f.close()\n",
    "    with open(name, 'r') as f:\n",
    "        print(f.read())\n",
    "        \n",
    "name = input(\"Enter name of the file : \")\n",
    "data = input(\"Enter data to append to the file : \")\n",
    "append_data(name, data)"
   ]
  },
  {
   "cell_type": "markdown",
   "id": "3d082df1",
   "metadata": {},
   "source": [
    "#### 3. Create a program for updating a word in the file"
   ]
  },
  {
   "cell_type": "code",
   "execution_count": 6,
   "id": "189b2b31",
   "metadata": {},
   "outputs": [
    {
     "name": "stdout",
     "output_type": "stream",
     "text": [
      "Enter data to be replaced : line\n",
      "Enter data to replace existing one : data\n",
      "Enter the name of file : file1.txt\n"
     ]
    }
   ],
   "source": [
    "import re\n",
    "d1 = input(\"Enter data to be replaced : \")\n",
    "d2 = input(\"Enter data to replace existing one : \")\n",
    "name = input(\"Enter the name of file : \")\n",
    "with open(name, 'r+') as f:\n",
    "    data = f.read()\n",
    "    data = re.sub(d1, d2, data)\n",
    "    f.seek(0)\n",
    "    f.write(data)\n",
    "    f.close()"
   ]
  },
  {
   "cell_type": "code",
   "execution_count": 7,
   "id": "31f15591",
   "metadata": {},
   "outputs": [
    {
     "name": "stdout",
     "output_type": "stream",
     "text": [
      "data1 \n",
      "data2 \n",
      "data3 \n",
      "data4 \n",
      "data5 \n",
      "data6 \n",
      "data7 \n",
      "data8 \n",
      "data9 \n",
      "data10\n",
      "hello\n"
     ]
    }
   ],
   "source": [
    "f = open('file1.txt', 'r')\n",
    "print(f.read())"
   ]
  }
 ],
 "metadata": {
  "kernelspec": {
   "display_name": "Python 3",
   "language": "python",
   "name": "python3"
  },
  "language_info": {
   "codemirror_mode": {
    "name": "ipython",
    "version": 3
   },
   "file_extension": ".py",
   "mimetype": "text/x-python",
   "name": "python",
   "nbconvert_exporter": "python",
   "pygments_lexer": "ipython3",
   "version": "3.8.8"
  }
 },
 "nbformat": 4,
 "nbformat_minor": 5
}
