{
 "cells": [
  {
   "cell_type": "markdown",
   "id": "6e116831",
   "metadata": {},
   "source": [
    "#### TASK :\n",
    "1. CREATE ARRAYS WITHS ALL THE DATATYPES AVAIALBLE N NUMPY"
   ]
  },
  {
   "cell_type": "code",
   "execution_count": 2,
   "id": "934f2811",
   "metadata": {},
   "outputs": [],
   "source": [
    "import numpy as np"
   ]
  },
  {
   "cell_type": "code",
   "execution_count": 2,
   "id": "03d00272",
   "metadata": {},
   "outputs": [
    {
     "name": "stdout",
     "output_type": "stream",
     "text": [
      "[1 2 3 4 5]\n",
      "int32\n"
     ]
    }
   ],
   "source": [
    "#integer\n",
    "arr = np.array([1,2,3,4,5], dtype = 'i')\n",
    "print(arr)\n",
    "print(arr.dtype)"
   ]
  },
  {
   "cell_type": "code",
   "execution_count": 6,
   "id": "3f9b0f7e",
   "metadata": {},
   "outputs": [
    {
     "name": "stdout",
     "output_type": "stream",
     "text": [
      "[False  True  True  True  True  True]\n",
      "bool\n"
     ]
    }
   ],
   "source": [
    "#boolean\n",
    "arr = np.array([0,1,2,3,4,5], dtype = 'bool_')\n",
    "print(arr)\n",
    "print(arr.dtype)"
   ]
  },
  {
   "cell_type": "code",
   "execution_count": 9,
   "id": "8e578028",
   "metadata": {},
   "outputs": [
    {
     "name": "stdout",
     "output_type": "stream",
     "text": [
      "[5 6 7 8 9]\n",
      "uint16\n"
     ]
    }
   ],
   "source": [
    "#unsigned integer\n",
    "arr = np.array([5,6,7,8,9], dtype='uint16')\n",
    "print(arr)\n",
    "print(arr.dtype)"
   ]
  },
  {
   "cell_type": "code",
   "execution_count": 10,
   "id": "bed7fdea",
   "metadata": {},
   "outputs": [
    {
     "name": "stdout",
     "output_type": "stream",
     "text": [
      "[1.2 3.4 5.6 7.8 9.1]\n",
      "float32\n"
     ]
    }
   ],
   "source": [
    "#float\n",
    "arr = np.array([1.2, 3.4, 5.6, 7.8, 9.1], dtype = 'f')\n",
    "print(arr)\n",
    "print(arr.dtype)"
   ]
  },
  {
   "cell_type": "code",
   "execution_count": 11,
   "id": "32613c30",
   "metadata": {},
   "outputs": [
    {
     "name": "stdout",
     "output_type": "stream",
     "text": [
      "[2. +6.j  7.2+3.j  6. +7.6j 1. +8.3j]\n",
      "complex128\n"
     ]
    }
   ],
   "source": [
    "#complexfloat\n",
    "arr = np.array([2+6j, 7.2+3j, 6+7.6j, 1+8.3j], dtype = 'complex_')\n",
    "print(arr)\n",
    "print(arr.dtype)"
   ]
  },
  {
   "cell_type": "code",
   "execution_count": 13,
   "id": "aebdeb49",
   "metadata": {},
   "outputs": [
    {
     "name": "stdout",
     "output_type": "stream",
     "text": [
      "6 years\n",
      "timedelta64[Y]\n"
     ]
    }
   ],
   "source": [
    "#timedelta\n",
    "arr = np.timedelta64(6, 'Y')\n",
    "print(arr)\n",
    "print(arr.dtype)"
   ]
  },
  {
   "cell_type": "code",
   "execution_count": 14,
   "id": "e73fc4fc",
   "metadata": {},
   "outputs": [
    {
     "name": "stdout",
     "output_type": "stream",
     "text": [
      "['2001-01-01T12:00:00.000' '2002-02-03T13:56:03.172']\n",
      "datetime64[ms]\n"
     ]
    }
   ],
   "source": [
    "#datetime\n",
    "arr = np.array(['2001-01-01T12:00', '2002-02-03T13:56:03.172'], dtype = 'M')\n",
    "print(arr)\n",
    "print(arr.dtype)"
   ]
  },
  {
   "cell_type": "code",
   "execution_count": 15,
   "id": "0e739b20",
   "metadata": {},
   "outputs": [
    {
     "name": "stdout",
     "output_type": "stream",
     "text": [
      "[1 5 7 8 9]\n",
      "object\n"
     ]
    }
   ],
   "source": [
    "#object\n",
    "arr = np.array([1,5,7,8,9], dtype='O')\n",
    "print(arr)\n",
    "print(arr.dtype)"
   ]
  },
  {
   "cell_type": "code",
   "execution_count": 16,
   "id": "6d137994",
   "metadata": {},
   "outputs": [
    {
     "name": "stdout",
     "output_type": "stream",
     "text": [
      "[b'Hello' b'Everyone' b'Good' b'Morning']\n",
      "|S8\n"
     ]
    }
   ],
   "source": [
    "#string\n",
    "arr = np.array(['Hello', 'Everyone', 'Good', 'Morning'], dtype = 'S')\n",
    "print(arr)\n",
    "print(arr.dtype)"
   ]
  },
  {
   "cell_type": "code",
   "execution_count": 17,
   "id": "fcbb082b",
   "metadata": {},
   "outputs": [
    {
     "name": "stdout",
     "output_type": "stream",
     "text": [
      "['μm' '∂r' '∆λ']\n",
      "<U2\n"
     ]
    }
   ],
   "source": [
    "#unicode string\n",
    "arr = np.array([u'\\u03bcm', u'\\u2202r', u'\\u2206\\u03bb'], dtype='U')\n",
    "print(arr)\n",
    "print(arr.dtype)"
   ]
  },
  {
   "cell_type": "code",
   "execution_count": 5,
   "id": "ead59bc5",
   "metadata": {},
   "outputs": [
    {
     "name": "stdout",
     "output_type": "stream",
     "text": [
      "[]\n",
      "|V8\n"
     ]
    }
   ],
   "source": [
    "#void\n",
    "import numpy as np\n",
    "arr = np.void([])\n",
    "print(arr)\n",
    "print(arr.dtype)"
   ]
  }
 ],
 "metadata": {
  "kernelspec": {
   "display_name": "Python 3",
   "language": "python",
   "name": "python3"
  },
  "language_info": {
   "codemirror_mode": {
    "name": "ipython",
    "version": 3
   },
   "file_extension": ".py",
   "mimetype": "text/x-python",
   "name": "python",
   "nbconvert_exporter": "python",
   "pygments_lexer": "ipython3",
   "version": "3.8.8"
  }
 },
 "nbformat": 4,
 "nbformat_minor": 5
}
