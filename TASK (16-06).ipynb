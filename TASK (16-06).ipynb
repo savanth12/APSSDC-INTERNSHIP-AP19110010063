{
 "cells": [
  {
   "cell_type": "markdown",
   "id": "f9388009",
   "metadata": {},
   "source": [
    "### TASKS:\n",
    "#### 1. Write a program to calculate area of\n",
    "     * area of circle : pi*(r)^2\n",
    "     * area of triangle : 1/2 baseheight\n",
    "     * area pf square : side^2\n",
    "     * area of rectangle : l*b"
   ]
  },
  {
   "cell_type": "code",
   "execution_count": 2,
   "id": "50ac103a",
   "metadata": {},
   "outputs": [
    {
     "name": "stdout",
     "output_type": "stream",
     "text": [
      "Enter the radius of circle : 3\n",
      "28.274333882308138\n"
     ]
    }
   ],
   "source": [
    "# area of circle\n",
    "import math\n",
    "def carea(r):\n",
    "    return math.pi*(r**2)\n",
    "print(carea(int(input(\"Enter the radius of circle : \"))))"
   ]
  },
  {
   "cell_type": "code",
   "execution_count": 7,
   "id": "bb24374a",
   "metadata": {},
   "outputs": [
    {
     "name": "stdout",
     "output_type": "stream",
     "text": [
      "Enter base of the triangle : 4\n",
      "Enter height of the traingle : 5\n",
      "10.0\n"
     ]
    }
   ],
   "source": [
    "#area of triangle\n",
    "def tarea(b, h):\n",
    "    return (b * h) / 2\n",
    "print(tarea(int(input(\"Enter base of the triangle : \")), int(input(\"Enter height of the traingle : \"))))"
   ]
  },
  {
   "cell_type": "code",
   "execution_count": 8,
   "id": "efe48fcb",
   "metadata": {},
   "outputs": [
    {
     "name": "stdout",
     "output_type": "stream",
     "text": [
      "Enter the side of the square : 4\n",
      "16\n"
     ]
    }
   ],
   "source": [
    "# area of square\n",
    "def sarea(x):\n",
    "    return x**2\n",
    "print(sarea(int(input(\"Enter the side of the square : \"))))"
   ]
  },
  {
   "cell_type": "code",
   "execution_count": 9,
   "id": "ff08d0ce",
   "metadata": {},
   "outputs": [
    {
     "name": "stdout",
     "output_type": "stream",
     "text": [
      "Enter length of the rectangle : 5\n",
      "Enter breadth of the rectangle : 6\n",
      "30\n"
     ]
    }
   ],
   "source": [
    "# area of rectangle\n",
    "def rarea(l, b):\n",
    "    return l * b\n",
    "print(rarea(int(input(\"Enter length of the rectangle : \")), int(input(\"Enter breadth of the rectangle : \"))))"
   ]
  },
  {
   "cell_type": "markdown",
   "id": "f35ba2fb",
   "metadata": {},
   "source": [
    "#### 2. Write a program in a module and ask the user to enter the data. Check the data if its camel case print like (Thumbsup) emoji.  Else convert the data into camel case then speakout \"Successfully converted your data into camel case\"."
   ]
  },
  {
   "cell_type": "code",
   "execution_count": 3,
   "id": "41d653e6",
   "metadata": {},
   "outputs": [],
   "source": [
    "import pyttsx3\n",
    "import emoji\n",
    "import camelcase"
   ]
  },
  {
   "cell_type": "code",
   "execution_count": 1,
   "id": "751287f3",
   "metadata": {},
   "outputs": [],
   "source": [
    "def sentence(i):\n",
    "    if (i == camelcase.CamelCase().hump(i)):\n",
    "        return emoji.emojize(\"The sentence is in camel case :thumbsup:\", use_aliases = True)\n",
    "    else:\n",
    "        spk = pyttsx3.init()\n",
    "        spk.say(\"The sentence is not in camel case. Successfully converted your data into camel case.\")\n",
    "        spk.runAndWait()\n",
    "        return \"The sentence in camel case:\", camelcase.CamelCase().hump(i)"
   ]
  },
  {
   "cell_type": "code",
   "execution_count": 4,
   "id": "360b9bd2",
   "metadata": {},
   "outputs": [
    {
     "name": "stdout",
     "output_type": "stream",
     "text": [
      "Enter a sentence hi i am from srm\n",
      "('The sentence in camel case:', 'Hi I Am From Srm')\n"
     ]
    }
   ],
   "source": [
    "i = input(\"Enter a sentence \")\n",
    "x = sentence(i)\n",
    "print(x)"
   ]
  },
  {
   "cell_type": "code",
   "execution_count": 19,
   "id": "b013807c",
   "metadata": {},
   "outputs": [
    {
     "name": "stdout",
     "output_type": "stream",
     "text": [
      "Enter a sentence Hello Everyone\n",
      "The sentence is in camel case 👍\n"
     ]
    }
   ],
   "source": [
    "i = input(\"Enter a sentence \")\n",
    "x = sentence(i)\n",
    "print(x)"
   ]
  }
 ],
 "metadata": {
  "kernelspec": {
   "display_name": "Python 3",
   "language": "python",
   "name": "python3"
  },
  "language_info": {
   "codemirror_mode": {
    "name": "ipython",
    "version": 3
   },
   "file_extension": ".py",
   "mimetype": "text/x-python",
   "name": "python",
   "nbconvert_exporter": "python",
   "pygments_lexer": "ipython3",
   "version": "3.8.8"
  }
 },
 "nbformat": 4,
 "nbformat_minor": 5
}
