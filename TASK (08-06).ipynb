{
 "cells": [
  {
   "cell_type": "markdown",
   "id": "8a8067f0",
   "metadata": {},
   "source": [
    "### 1. Write a program to check whether the user eligible for vote or not"
   ]
  },
  {
   "cell_type": "code",
   "execution_count": 6,
   "id": "b3f67481",
   "metadata": {},
   "outputs": [
    {
     "name": "stdout",
     "output_type": "stream",
     "text": [
      "Enter age: 47\n",
      "Eligible for Voting.\n"
     ]
    }
   ],
   "source": [
    "age = int(input(\"Enter age: \"))\n",
    "if age >= 18:\n",
    "    print(\"Eligible for Voting.\")\n",
    "else:\n",
    "    print(\"Not eligible for Voting.\")"
   ]
  },
  {
   "cell_type": "markdown",
   "id": "63129d11",
   "metadata": {},
   "source": [
    "### 2. Check the given number is positive or negative"
   ]
  },
  {
   "cell_type": "code",
   "execution_count": 8,
   "id": "54bbce2f",
   "metadata": {},
   "outputs": [
    {
     "name": "stdout",
     "output_type": "stream",
     "text": [
      "Enter number: 5\n",
      "Number is positive\n"
     ]
    }
   ],
   "source": [
    "num = int(input(\"Enter number: \"))\n",
    "if(num > 0):\n",
    "    print(\"Number is positive\")\n",
    "else:\n",
    "    print(\"Number is negative\")"
   ]
  },
  {
   "cell_type": "markdown",
   "id": "200b215c",
   "metadata": {},
   "source": [
    "### 3. Check the given number is even or odd if it's even check which is divisible by 4 or not"
   ]
  },
  {
   "cell_type": "code",
   "execution_count": 1,
   "id": "8aa19524",
   "metadata": {},
   "outputs": [
    {
     "name": "stdout",
     "output_type": "stream",
     "text": [
      "Enter a number: 24\n",
      "Number is even\n",
      "Number is divisible by 4\n"
     ]
    }
   ],
   "source": [
    "num = int(input(\"Enter a number: \"))\n",
    "if num %2 == 0:\n",
    "    print(\"Number is even\")\n",
    "    if num %4 == 0:\n",
    "        print(\"Number is divisible by 4\")\n",
    "    else:\n",
    "        print(\"Number is not divisible by 4\")\n",
    "    \n",
    "else:\n",
    "    print(\"Number is odd\")"
   ]
  },
  {
   "cell_type": "markdown",
   "id": "b0b5c3b1",
   "metadata": {},
   "source": [
    "### 4. Write a program to print student grade based on percentage like Distinction,pass or fail "
   ]
  },
  {
   "cell_type": "code",
   "execution_count": 14,
   "id": "d61e759f",
   "metadata": {},
   "outputs": [
    {
     "name": "stdout",
     "output_type": "stream",
     "text": [
      "Please enter English Marks: 67\n",
      "Please enter Maths score: 89\n",
      "Please enter Computer Marks: 89\n",
      "Please enter Physics Marks: 63\n",
      "Please enter Chemistry Marks: 94\n",
      "Total Marks = 402.00\n",
      "Marks Percentage = 80.40\n",
      "Distinction\n"
     ]
    }
   ],
   "source": [
    "english = float(input(\"Please enter English Marks: \"))\n",
    "maths = float(input(\"Please enter Maths score: \"))\n",
    "computers = float(input(\"Please enter Computer Marks: \"))\n",
    "physics = float(input(\"Please enter Physics Marks: \"))\n",
    "chemistry = float(input(\"Please enter Chemistry Marks: \"))\n",
    "\n",
    "total = english + maths + computers + physics + chemistry\n",
    "percentage = (total / 500) * 100\n",
    "\n",
    "print(\"Total Marks = %.2f\"  %total)\n",
    "print(\"Marks Percentage = %.2f\"  %percentage)\n",
    "\n",
    "if(percentage >= 80):\n",
    "    print(\"Distinction\")\n",
    "elif(percentage >= 40):\n",
    "    print(\"Pass\")\n",
    "else:\n",
    "    print(\"Fail\")"
   ]
  },
  {
   "cell_type": "markdown",
   "id": "2ed1fb28",
   "metadata": {},
   "source": [
    "### 5. Check the given year is Leap or not"
   ]
  },
  {
   "cell_type": "code",
   "execution_count": 13,
   "id": "9d2b56e9",
   "metadata": {},
   "outputs": [
    {
     "name": "stdout",
     "output_type": "stream",
     "text": [
      "Enter year to be checked:2012\n",
      "2012 is a leap year\n"
     ]
    }
   ],
   "source": [
    "year = int(input(\"Enter year to be checked:\"))\n",
    "if(year % 4 == 0 and year % 100 != 0 or year % 400 == 0):\n",
    "    print(\"{} is a leap year\".format(year))\n",
    "else:\n",
    "    print(\"{} isn't a leap year\".format(year))"
   ]
  }
 ],
 "metadata": {
  "kernelspec": {
   "display_name": "Python 3",
   "language": "python",
   "name": "python3"
  },
  "language_info": {
   "codemirror_mode": {
    "name": "ipython",
    "version": 3
   },
   "file_extension": ".py",
   "mimetype": "text/x-python",
   "name": "python",
   "nbconvert_exporter": "python",
   "pygments_lexer": "ipython3",
   "version": "3.8.8"
  }
 },
 "nbformat": 4,
 "nbformat_minor": 5
}
