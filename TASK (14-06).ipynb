{
 "cells": [
  {
   "cell_type": "markdown",
   "id": "3305c452",
   "metadata": {},
   "source": [
    "#### 1. Write a pattern to display 4 digit numbers from the list1\n",
    "\n",
    "list1 = [5841, 987654321, 453267, 1234, 675, 8797]"
   ]
  },
  {
   "cell_type": "code",
   "execution_count": 4,
   "id": "456d24fc",
   "metadata": {},
   "outputs": [],
   "source": [
    "import re"
   ]
  },
  {
   "cell_type": "code",
   "execution_count": 6,
   "id": "b458284e",
   "metadata": {},
   "outputs": [
    {
     "name": "stdout",
     "output_type": "stream",
     "text": [
      "1234\n",
      "8797\n"
     ]
    }
   ],
   "source": [
    "list1 = ['584', '987654321', '453267', '1234', '675', '8797']\n",
    "for n in list1:\n",
    "    if re.findall('^[0-9]{4}$', n):\n",
    "        print(n)"
   ]
  },
  {
   "cell_type": "markdown",
   "id": "5ed2458a",
   "metadata": {},
   "source": [
    "#### 2. Validate a phone number using patterns.\n",
    "\n",
    "ph_list = [9876543210, 8123456789, 7890123456, 789654, 1234567890]"
   ]
  },
  {
   "cell_type": "code",
   "execution_count": 7,
   "id": "da8c9b7e",
   "metadata": {},
   "outputs": [
    {
     "name": "stdout",
     "output_type": "stream",
     "text": [
      "9876543210\n",
      "8123456789\n",
      "7890123456\n"
     ]
    }
   ],
   "source": [
    "ph_list = ['9876543210', '8123456789', '7890123456', '789654', '1234567890']\n",
    "for x in ph_list:\n",
    "    if re.findall('[6-9]{1}[0-9]{9}$', x):\n",
    "        print(x)"
   ]
  }
 ],
 "metadata": {
  "kernelspec": {
   "display_name": "Python 3",
   "language": "python",
   "name": "python3"
  },
  "language_info": {
   "codemirror_mode": {
    "name": "ipython",
    "version": 3
   },
   "file_extension": ".py",
   "mimetype": "text/x-python",
   "name": "python",
   "nbconvert_exporter": "python",
   "pygments_lexer": "ipython3",
   "version": "3.8.8"
  }
 },
 "nbformat": 4,
 "nbformat_minor": 5
}
