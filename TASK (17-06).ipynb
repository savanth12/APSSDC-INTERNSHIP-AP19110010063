{
 "cells": [
  {
   "cell_type": "markdown",
   "id": "4741c983",
   "metadata": {},
   "source": [
    "### TASK:\n",
    "* Generate a 3-digit OTP from 2 different classes (Mail class and Phone class)\n",
    "* return 6-digit OTP from both Base classes "
   ]
  },
  {
   "cell_type": "code",
   "execution_count": 2,
   "id": "55e450cc",
   "metadata": {},
   "outputs": [],
   "source": [
    "import random\n",
    "class mail():\n",
    "    def __init__(self):\n",
    "        self.str1 = random.randint(100, 999)\n",
    "        print(\"The 3-digit otp by mail is:\", self.str1)\n",
    "class phone():\n",
    "    def __init__(self):\n",
    "        self.str2 = random.randint(100, 999)\n",
    "        print(\"The 3-digit otp by phone is:\", self.str2)\n",
    "class Base():\n",
    "    def __init__(self):\n",
    "        mail.__init__(self)\n",
    "        phone.__init__(self)\n",
    "        print(\"The 6-digit otp is: \", str(self.str1)+str(self.str2))"
   ]
  },
  {
   "cell_type": "code",
   "execution_count": 3,
   "id": "d6d08014",
   "metadata": {},
   "outputs": [
    {
     "name": "stdout",
     "output_type": "stream",
     "text": [
      "The 3-digit otp by mail is: 720\n",
      "The 3-digit otp by phone is: 215\n",
      "The 6-digit otp is:  720215\n"
     ]
    }
   ],
   "source": [
    "object = Base()"
   ]
  },
  {
   "cell_type": "code",
   "execution_count": 4,
   "id": "51864618",
   "metadata": {},
   "outputs": [
    {
     "name": "stdout",
     "output_type": "stream",
     "text": [
      "The 3-digit otp by mail is: 317\n",
      "The 3-digit otp by phone is: 953\n",
      "The 6-digit otp is:  317953\n"
     ]
    }
   ],
   "source": [
    "object = Base()"
   ]
  }
 ],
 "metadata": {
  "kernelspec": {
   "display_name": "Python 3",
   "language": "python",
   "name": "python3"
  },
  "language_info": {
   "codemirror_mode": {
    "name": "ipython",
    "version": 3
   },
   "file_extension": ".py",
   "mimetype": "text/x-python",
   "name": "python",
   "nbconvert_exporter": "python",
   "pygments_lexer": "ipython3",
   "version": "3.8.8"
  }
 },
 "nbformat": 4,
 "nbformat_minor": 5
}
