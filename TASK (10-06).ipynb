{
 "cells": [
  {
   "cell_type": "markdown",
   "id": "0890b671",
   "metadata": {},
   "source": [
    "#### TASK :\n",
    "* take input from the user\n",
    "* check the length of the string even or odd\n",
    "* If it is string lenth is odd access one middle character\n",
    "* If that string length is even access two middle characters"
   ]
  },
  {
   "cell_type": "code",
   "execution_count": 1,
   "id": "c5f839ee",
   "metadata": {},
   "outputs": [
    {
     "name": "stdout",
     "output_type": "stream",
     "text": [
      "Enter a string: savanth\n",
      "a\n"
     ]
    }
   ],
   "source": [
    "x = input(\"Enter a string: \")\n",
    "if len(x) % 2 != 0:\n",
    "    print(x[len(x)//2])\n",
    "else:\n",
    "    print(x[(len(x)//2)-1],x[len(x)//2])"
   ]
  },
  {
   "cell_type": "code",
   "execution_count": 2,
   "id": "bc4a707b",
   "metadata": {},
   "outputs": [
    {
     "name": "stdout",
     "output_type": "stream",
     "text": [
      "Enter a string: Orange\n",
      "a n\n"
     ]
    }
   ],
   "source": [
    "x = input(\"Enter a string: \")\n",
    "if len(x) % 2 != 0:\n",
    "    print(x[len(x)//2])\n",
    "else:\n",
    "    print(x[(len(x)//2)-1],x[len(x)//2])"
   ]
  }
 ],
 "metadata": {
  "kernelspec": {
   "display_name": "Python 3",
   "language": "python",
   "name": "python3"
  },
  "language_info": {
   "codemirror_mode": {
    "name": "ipython",
    "version": 3
   },
   "file_extension": ".py",
   "mimetype": "text/x-python",
   "name": "python",
   "nbconvert_exporter": "python",
   "pygments_lexer": "ipython3",
   "version": "3.8.8"
  }
 },
 "nbformat": 4,
 "nbformat_minor": 5
}
